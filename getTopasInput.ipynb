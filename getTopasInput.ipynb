{
 "cells": [
  {
   "cell_type": "code",
   "execution_count": 1,
   "metadata": {},
   "outputs": [],
   "source": [
    "import numpy as np\n",
    "# Enter the voxel coordinates of the tumor along with the voxel size and array shape to get the true bits of the source (mm)\n",
    "def get_source_loc(shape=[256,256,64],spacing=[1.9531, 1.9531, 4.0],voxel_loc=[177,86,37],orient=\"right\"):\n",
    "    tumor_x_loc = (voxel_loc[1]-shape[0]/2)*spacing[0]\n",
    "    tumor_y_loc = (voxel_loc[0]-shape[1]/2)*spacing[1]\n",
    "    tumor_z_loc = (voxel_loc[2]-shape[2]/2)*spacing[2]\n",
    "    \n",
    "    if orient == \"left\":\n",
    "        source_y_loc = -shape[0]/2*spacing[0]\n",
    "        source_x_loc = tumor_x_loc\n",
    "        source_z_loc = tumor_z_loc\n",
    "        rot = \"\\tx: 90. deg\\n\\ty: 0. deg\\n\\tz: 0. deg\"\n",
    "    elif orient == \"right\":\n",
    "        source_y_loc = shape[0]/2*spacing[0]\n",
    "        source_x_loc = tumor_x_loc\n",
    "        source_z_loc = tumor_z_loc\n",
    "        rot = \"\\tx: -90. deg\\n\\ty: 0. deg\\n\\tz: 0. deg\"\n",
    "    elif orient == \"front\":\n",
    "        source_x_loc = -shape[0]/2*spacing[0]\n",
    "        source_y_loc = tumor_y_loc\n",
    "        source_z_loc = tumor_z_loc\n",
    "        rot = \"\\tx: 0. deg\\n\\ty: -90. deg\\n\\tz: 0. deg\"\n",
    "    elif orient == \"behind\":\n",
    "        source_x_loc = shape[0]/2*spacing[0]\n",
    "        source_y_loc = tumor_y_loc\n",
    "        source_z_loc = tumor_z_loc\n",
    "        rot = \"x: 0. deg\\ny: 90. deg\\nz: 0. deg\"\n",
    "    loc = (source_x_loc,source_y_loc,source_z_loc)\n",
    "    print(f\"\\t源位置：{loc} \\n\\t发射方向：\\n{rot}\")"
   ]
  },
  {
   "cell_type": "code",
   "execution_count": 3,
   "metadata": {},
   "outputs": [
    {
     "name": "stdout",
     "output_type": "stream",
     "text": [
      "\t源位置：(-82.03020000000001, 128, 20.0) \n",
      "\t发射方向：\n",
      "\tx: -90. deg\n",
      "\ty: 0. deg\n",
      "\tz: 0. deg\n"
     ]
    }
   ],
   "source": [
    "get_source_loc()"
   ]
  },
  {
   "cell_type": "code",
   "execution_count": null,
   "metadata": {},
   "outputs": [],
   "source": []
  }
 ],
 "metadata": {
  "interpreter": {
   "hash": "40d3a090f54c6569ab1632332b64b2c03c39dcf918b08424e98f38b5ae0af88f"
  },
  "kernelspec": {
   "display_name": "Python 3.8.5 ('base')",
   "language": "python",
   "name": "python3"
  },
  "language_info": {
   "codemirror_mode": {
    "name": "ipython",
    "version": 3
   },
   "file_extension": ".py",
   "mimetype": "text/x-python",
   "name": "python",
   "nbconvert_exporter": "python",
   "pygments_lexer": "ipython3",
   "version": "3.8.5"
  },
  "orig_nbformat": 4
 },
 "nbformat": 4,
 "nbformat_minor": 2
}
